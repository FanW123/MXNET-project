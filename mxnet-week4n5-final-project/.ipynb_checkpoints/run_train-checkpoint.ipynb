{
 "cells": [
  {
   "cell_type": "code",
   "execution_count": 1,
   "metadata": {
    "collapsed": true
   },
   "outputs": [],
   "source": [
    "import mxnet as mx\n",
    "from symbol import get_resnet_model\n",
    "import numpy as np \n",
    "from data_ulti import get_iterator"
   ]
  },
  {
   "cell_type": "code",
   "execution_count": 2,
   "metadata": {
    "collapsed": true
   },
   "outputs": [],
   "source": [
    "import logging\n",
    "import sys\n",
    "root_logger = logging.getLogger()\n",
    "stdout_handler = logging.StreamHandler(sys.stdout)\n",
    "root_logger.addHandler(stdout_handler)\n",
    "root_logger.setLevel(logging.DEBUG)"
   ]
  },
  {
   "cell_type": "code",
   "execution_count": null,
   "metadata": {},
   "outputs": [],
   "source": [
    "if __name__ == \"__main__\":\n",
    "    # get sym\n",
    "    # Try different network 34 50 101 to find the best fit\n",
    "    # 1. Get pretrained symbol\n",
    "    sym = get_resnet_model('pretrained_models/resnet-18', 0)\n",
    "    \n",
    "    _, args_params, aux_params = mx.model.load_checkpoint('pretrained_models/resnet-18', 0)\n",
    "    \n",
    "    # get some input\n",
    "    train_data = get_iterator(path='DATA_rec/cat_small.rec', data_shape=(3,244,244), label_width=7*7*5, \n",
    "                              batch_size=32, shuffle=True)\n",
    "    val_data = get_iterator(path='DATA_rec/cat_small.rec',data_shape=(3,244,244), label_width=7*7*5, \n",
    "                              batch_size=32)\n",
    "    \n",
    "    # allocate memory to the system\n",
    "    mod = mx.mod.Module(symbol=sym, context=mx.cpu(0))\n",
    "    \n",
    "    #def loss_metric(label, pred):\n",
    "        \n",
    "        \n",
    "        \n",
    "        \n",
    "    # setup metric\n",
    "    metric = mx.metric.create(loss_metric, allow_extra_outputs=True)\n",
    "    \n",
    "    \n"
   ]
  },
  {
   "cell_type": "code",
   "execution_count": null,
   "metadata": {
    "collapsed": true
   },
   "outputs": [],
   "source": []
  }
 ],
 "metadata": {
  "kernelspec": {
   "display_name": "Python 2",
   "language": "python",
   "name": "python2"
  },
  "language_info": {
   "codemirror_mode": {
    "name": "ipython",
    "version": 2
   },
   "file_extension": ".py",
   "mimetype": "text/x-python",
   "name": "python",
   "nbconvert_exporter": "python",
   "pygments_lexer": "ipython2",
   "version": "2.7.13"
  }
 },
 "nbformat": 4,
 "nbformat_minor": 2
}
