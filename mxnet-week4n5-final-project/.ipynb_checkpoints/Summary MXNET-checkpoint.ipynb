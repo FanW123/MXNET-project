{
 "cells": [
  {
   "cell_type": "code",
   "execution_count": null,
   "metadata": {
    "collapsed": true
   },
   "outputs": [],
   "source": [
    "import mxnet as mx "
   ]
  },
  {
   "cell_type": "code",
   "execution_count": null,
   "metadata": {
    "collapsed": true
   },
   "outputs": [],
   "source": [
    "# Data Perpare \n",
    "mx.recordio.MXIndexedRecordIO\n",
    "mx.recordio.IRHeader\n",
    "mx.recordio.pack_img\n",
    "mx.io.ImageRecordIter"
   ]
  },
  {
   "cell_type": "code",
   "execution_count": 1,
   "metadata": {},
   "outputs": [
    {
     "ename": "NameError",
     "evalue": "name 'mx' is not defined",
     "output_type": "error",
     "traceback": [
      "\u001b[0;31m---------------------------------------------------------------------------\u001b[0m",
      "\u001b[0;31mNameError\u001b[0m                                 Traceback (most recent call last)",
      "\u001b[0;32m<ipython-input-1-1152b0173b4f>\u001b[0m in \u001b[0;36m<module>\u001b[0;34m()\u001b[0m\n\u001b[1;32m      1\u001b[0m \u001b[0;31m# Model definition\u001b[0m\u001b[0;34m\u001b[0m\u001b[0;34m\u001b[0m\u001b[0m\n\u001b[0;32m----> 2\u001b[0;31m \u001b[0mmx\u001b[0m\u001b[0;34m.\u001b[0m\u001b[0msym\u001b[0m\u001b[0;34m.\u001b[0m\u001b[0mVariable\u001b[0m\u001b[0;34m\u001b[0m\u001b[0m\n\u001b[0m\u001b[1;32m      3\u001b[0m \u001b[0mmx\u001b[0m\u001b[0;34m.\u001b[0m\u001b[0msym\u001b[0m\u001b[0;34m.\u001b[0m\u001b[0mConvolution\u001b[0m\u001b[0;34m\u001b[0m\u001b[0m\n\u001b[1;32m      4\u001b[0m \u001b[0mmx\u001b[0m\u001b[0;34m.\u001b[0m\u001b[0msym\u001b[0m\u001b[0;34m.\u001b[0m\u001b[0mBatchNorm\u001b[0m\u001b[0;34m\u001b[0m\u001b[0m\n\u001b[1;32m      5\u001b[0m \u001b[0mmx\u001b[0m\u001b[0;34m.\u001b[0m\u001b[0msym\u001b[0m\u001b[0;34m.\u001b[0m\u001b[0mActivation\u001b[0m\u001b[0;34m\u001b[0m\u001b[0m\n",
      "\u001b[0;31mNameError\u001b[0m: name 'mx' is not defined"
     ]
    }
   ],
   "source": [
    "# Model definition \n",
    "mx.sym.Variable\n",
    "mx.sym.Convolution\n",
    "mx.sym.BatchNorm\n",
    "mx.sym.Activation\n",
    "mx.sym.LinearRegressionOutput\n",
    "mx.sym.reshape\n",
    "mx.sym.transpose \n",
    "mx.sym.split \n",
    "mx.sym.MakeLoss\n",
    "mx.sym.Group \n",
    "mx.sym.BlockGrad \n",
    "# if sym is a symbol \n",
    "sym = mx.sym.Variable('someVar')\n",
    "sym.get_internals\n",
    "sym.list_arguments\n",
    "sym.list_outputs"
   ]
  },
  {
   "cell_type": "code",
   "execution_count": null,
   "metadata": {
    "collapsed": true
   },
   "outputs": [],
   "source": [
    "help(mx.sym.Group)\n",
    "final_outout = mx.sym.Group([loss, max.sym.BlockGrad layer1_put, layer2_output])"
   ]
  },
  {
   "cell_type": "code",
   "execution_count": null,
   "metadata": {
    "collapsed": true
   },
   "outputs": [],
   "source": [
    "# Model Training/Testing \n",
    "mx.model.load_checkpoint\n",
    "# to bind mem to sym \n",
    "mx.mod.Module\n",
    "# for metric \n",
    "mx.metric.create\n",
    "# save a model \n",
    "mx.callback.do_checkpoint\n",
    "# print speed and print metric \n",
    "mx.callback.Speedometer\n",
    "# learning rate scheduler \n",
    "mx.lr_scheduler.FactorScheduler\n",
    "# param init \n",
    "mx.init\n",
    "# for monitor (debugging)\n",
    "mx.mon.Monitor"
   ]
  }
 ],
 "metadata": {
  "kernelspec": {
   "display_name": "Python 2",
   "language": "python",
   "name": "python2"
  },
  "language_info": {
   "codemirror_mode": {
    "name": "ipython",
    "version": 2
   },
   "file_extension": ".py",
   "mimetype": "text/x-python",
   "name": "python",
   "nbconvert_exporter": "python",
   "pygments_lexer": "ipython2",
   "version": "2.7.13"
  }
 },
 "nbformat": 4,
 "nbformat_minor": 2
}
