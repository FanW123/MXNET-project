{
 "cells": [
  {
   "cell_type": "code",
   "execution_count": 3,
   "metadata": {
    "collapsed": true
   },
   "outputs": [],
   "source": [
    "import matplotlib.pyplot as plt\n",
    "import matplotlib.patches as patches\n",
    "import numpy as np\n",
    "import mxnet as mx \n",
    "from data_ulti import toRecFile\n",
    "from symbol import get_resnet_model\n",
    "from symbol import YOLO_loss\n",
    "from data_ulti import get_iterator"
   ]
  },
  {
   "cell_type": "code",
   "execution_count": 4,
   "metadata": {
    "collapsed": true
   },
   "outputs": [],
   "source": [
    "#convert raw image data to MXNET .rec file data\n",
    "imgroot = \"./DATA/\"\n",
    "annotation = np.load(\"./DATA/annotation_list.npy\")[()]\n",
    "imglist = annotation.keys()\n",
    "sizet = 544\n",
    "#rec_file = toRecFile(imgroot, imglist, annotation, sizet, (7,7,5), 32)"
   ]
  },
  {
   "cell_type": "code",
   "execution_count": 5,
   "metadata": {
    "collapsed": true
   },
   "outputs": [],
   "source": [
    "# get sym \n",
    "sym = get_resnet_model('pretrained_models/resnet-18', 0)\n",
    "_, args_params, aux_params = mx.model.load_checkpoint('pretrained_models/resnet-18', 0)\n",
    "logit = sym.get_internals()['logit_output']\n",
    "#mx.viz.plot_network(sym)"
   ]
  },
  {
   "cell_type": "code",
   "execution_count": 6,
   "metadata": {
    "collapsed": true
   },
   "outputs": [],
   "source": [
    "# get some input \n",
    "train_data = mx.io.ImageRecordIter(path_imgrec='DATA_rec/cat_full.rec',\n",
    "                                 data_shape=(3,224,224),\n",
    "                                 label_width=7*7*5, \n",
    "                                 batch_size=1,)\n",
    "val_data = mx.io.ImageRecordIter(path_imgrec='DATA_rec/cat_small.rec',\n",
    "                                 data_shape=(3,224,224),\n",
    "                                 label_width=7*7*5, \n",
    "                                 batch_size=1,)"
   ]
  },
  {
   "cell_type": "code",
   "execution_count": null,
   "metadata": {},
   "outputs": [],
   "source": []
  },
  {
   "cell_type": "code",
   "execution_count": 7,
   "metadata": {},
   "outputs": [
    {
     "data": {
      "text/plain": [
       "<NDArray 1x7x7x5 @cpu(0)>"
      ]
     },
     "execution_count": 7,
     "metadata": {},
     "output_type": "execute_result"
    }
   ],
   "source": [
    "# allocate memory\n",
    "mod = mx.mod.Module(symbol=sym, context=mx.cpu(0))\n",
    "# combine the two data\n",
    "mod.bind(train_data.provide_data, train_data.provide_label)\n",
    "mod.init_params(allow_missing=True, arg_params=args_params, aux_params=aux_params, \n",
    "                initializer=mx.init.Xavier(magnitude=2,rnd_type='gaussian',factor_type='in'))\n",
    "out = mod.predict(eval_data=train_data, num_batch=1)\n",
    "out[0]"
   ]
  },
  {
   "cell_type": "code",
   "execution_count": null,
   "metadata": {
    "collapsed": true
   },
   "outputs": [],
   "source": []
  },
  {
   "cell_type": "code",
   "execution_count": null,
   "metadata": {
    "collapsed": true
   },
   "outputs": [],
   "source": []
  }
 ],
 "metadata": {
  "kernelspec": {
   "display_name": "Python 2",
   "language": "python",
   "name": "python2"
  },
  "language_info": {
   "codemirror_mode": {
    "name": "ipython",
    "version": 2
   },
   "file_extension": ".py",
   "mimetype": "text/x-python",
   "name": "python",
   "nbconvert_exporter": "python",
   "pygments_lexer": "ipython2",
   "version": "2.7.13"
  }
 },
 "nbformat": 4,
 "nbformat_minor": 2
}
